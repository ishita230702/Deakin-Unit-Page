{
  "nbformat": 4,
  "nbformat_minor": 0,
  "metadata": {
    "colab": {
      "provenance": [],
      "authorship_tag": "ABX9TyNXVKNj3cqcihXtuqJBNA9B",
      "include_colab_link": true
    },
    "kernelspec": {
      "name": "python3",
      "display_name": "Python 3"
    },
    "language_info": {
      "name": "python"
    }
  },
  "cells": [
    {
      "cell_type": "markdown",
      "metadata": {
        "id": "view-in-github",
        "colab_type": "text"
      },
      "source": [
        "<a href=\"https://colab.research.google.com/github/ishita230702/Deakin-Unit-Page/blob/main/SIT%20742%20Assignment%201.ipynb\" target=\"_parent\"><img src=\"https://colab.research.google.com/assets/colab-badge.svg\" alt=\"Open In Colab\"/></a>"
      ]
    },
    {
      "cell_type": "markdown",
      "source": [
        "# **SIT 742 : MODERN DATA SCIENCE**\n",
        "**STUDENT ID** : 224051349\n",
        "\n",
        "**STUDENT NAME**: ISHITA\n",
        "\n",
        "**WORKSHOP** : THURSDAY"
      ],
      "metadata": {
        "id": "cdKSOHtBx2vv"
      }
    },
    {
      "cell_type": "markdown",
      "source": [
        "# **ASSIGNMENT 1**"
      ],
      "metadata": {
        "id": "7QMlt0E8yGr9"
      }
    },
    {
      "cell_type": "markdown",
      "source": [
        "**Answer 1.1**"
      ],
      "metadata": {
        "id": "FwSNu22S60rV"
      }
    },
    {
      "cell_type": "code",
      "execution_count": 28,
      "metadata": {
        "colab": {
          "base_uri": "https://localhost:8080/"
        },
        "id": "nQ6am2SW6axG",
        "outputId": "b61e1067-eaf9-467a-a976-b4e082aa2fa2"
      },
      "outputs": [
        {
          "output_type": "stream",
          "name": "stdout",
          "text": [
            "False\n",
            "True\n",
            "True\n",
            "True\n",
            "True\n",
            "False\n"
          ]
        }
      ],
      "source": [
        "#Defining the function is_divisible\n",
        "def is_divisible(m, n): # m,n are two integers\n",
        "    # Check if the divisor n is zero. Division by zero is not allowed.\n",
        "    if n == 0:\n",
        "        return False\n",
        "\n",
        "    # Return True if m is divisible by n (i.e., the remainder is 0), otherwise return False.\n",
        "    return m % n == 0\n",
        "\n",
        "# Test cases\n",
        "print(is_divisible(10, 7))   # Should return False, 10 is not divisible by 7\n",
        "print(is_divisible(10, 5))   # Should return True, 10 is divisible by 5\n",
        "print(is_divisible(39, 13))  # Should return True, 39 is divisible by 13\n",
        "print(is_divisible(0, 1))    # Should return True, 0 is divisible by any non-zero number\n",
        "print(is_divisible(192, -3)) # Should return True, 192 is divisible by -3\n",
        "print(is_divisible(40, 0))   # Should return False, division by zero is not allowed\n",
        "\n"
      ]
    },
    {
      "cell_type": "markdown",
      "source": [
        "**Answer 1.2**"
      ],
      "metadata": {
        "id": "1BXopQtP8ULo"
      }
    },
    {
      "cell_type": "code",
      "source": [
        "# Defining a function not_equal\n",
        "def not_equal(m, n): # m,n can be of any variable type\n",
        "    \"\"\"\n",
        "    This function checks if two values, m and n, are not equal.\n",
        "    If they are equal, it returns False; if they are not equal, it returns True.\n",
        "    \"\"\"\n",
        "    # Check if m is equal to n\n",
        "    if m == n:\n",
        "        return False\n",
        "    else:\n",
        "        return True\n",
        "\n",
        "# Test cases\n",
        "print(not_equal(19, 1))         # Should return True, 19 is not equal to 1\n",
        "print(not_equal(\"abc\", \"abc\"))  # Should return False, both strings are equal\n",
        "print(not_equal(2, 2))          # Should return False, both numbers are equal\n",
        "print(not_equal([1, 2], [2, 1])) # Should return True, lists have different elements or order\n"
      ],
      "metadata": {
        "colab": {
          "base_uri": "https://localhost:8080/"
        },
        "id": "aF93k4bk8YhK",
        "outputId": "d821a9e3-a22a-4b4e-c2e2-e530470aadd2"
      },
      "execution_count": 29,
      "outputs": [
        {
          "output_type": "stream",
          "name": "stdout",
          "text": [
            "True\n",
            "False\n",
            "False\n",
            "True\n"
          ]
        }
      ]
    },
    {
      "cell_type": "markdown",
      "source": [
        "**Answer 1.3**"
      ],
      "metadata": {
        "id": "bAFGTS6X-vP5"
      }
    },
    {
      "cell_type": "code",
      "source": [
        "# Generate all possible outcomes of flipping three coins (H for heads, T for tails)\n",
        "coin_flips = [(a, b, c) for a in ['H', 'T'] for b in ['H', 'T'] for c in ['H', 'T']]\n",
        "print(coin_flips)  # Should print all 8 combinations of H and T for three coin flips\n",
        "\n",
        "# Create a list by adding each element of the first list with each element of the second list using list comprehension\n",
        "result = [x + y for x in [10, 20, 30] for y in [1, 2, 3]]\n",
        "print(result)  # Should print a list of sums: [11, 12, 13, 21, 22, 23, 31, 32, 33]\n",
        "\n"
      ],
      "metadata": {
        "colab": {
          "base_uri": "https://localhost:8080/"
        },
        "id": "owURjGz7-1re",
        "outputId": "3972d6c9-bee5-4a61-83f1-cac58c629b24"
      },
      "execution_count": 30,
      "outputs": [
        {
          "output_type": "stream",
          "name": "stdout",
          "text": [
            "[('H', 'H', 'H'), ('H', 'H', 'T'), ('H', 'T', 'H'), ('H', 'T', 'T'), ('T', 'H', 'H'), ('T', 'H', 'T'), ('T', 'T', 'H'), ('T', 'T', 'T')]\n",
            "[11, 12, 13, 21, 22, 23, 31, 32, 33]\n"
          ]
        }
      ]
    },
    {
      "cell_type": "markdown",
      "source": [
        "The list comprehension iterates through each element x in the first list [10, 20, 30] and adds it to each element y in the second list [1, 2, 3].\n",
        "The result is a new list where each element is the sum of x and y."
      ],
      "metadata": {
        "id": "L8rYt2DKqDIv"
      }
    },
    {
      "cell_type": "code",
      "source": [
        "\n",
        "# The same result as above, but implemented using nested for loops\n",
        "result = []\n",
        "for x in [10, 20, 30]:\n",
        "    for y in [1, 2, 3]:\n",
        "        result.append(x + y)\n",
        "\n",
        "print(result)  # Should print the same list of sums: [11, 12, 13, 21, 22, 23, 31, 32, 33]"
      ],
      "metadata": {
        "colab": {
          "base_uri": "https://localhost:8080/"
        },
        "id": "K7YkZcJKqF3W",
        "outputId": "c2a24655-d9f1-4999-e313-59f90e0d32b0"
      },
      "execution_count": 31,
      "outputs": [
        {
          "output_type": "stream",
          "name": "stdout",
          "text": [
            "[11, 12, 13, 21, 22, 23, 31, 32, 33]\n"
          ]
        }
      ]
    },
    {
      "cell_type": "markdown",
      "source": [
        "The outer loop iterates over the elements x in [10, 20, 30].\n",
        "The inner loop iterates over the elements y in [1, 2, 3].\n",
        "For each combination of x and y, the sum x + y is appended to the result list."
      ],
      "metadata": {
        "id": "hSHaDB3LqLW_"
      }
    },
    {
      "cell_type": "markdown",
      "source": [
        "Both the list comprehension and the nested for loop produce the same result."
      ],
      "metadata": {
        "id": "OZ0IkbCQqMSJ"
      }
    },
    {
      "cell_type": "markdown",
      "source": [
        "**Answer 1.4**\n"
      ],
      "metadata": {
        "id": "t2deUcQ3_bDY"
      }
    },
    {
      "cell_type": "code",
      "source": [
        "def find_digits(s):\n",
        "    \"\"\"\n",
        "    This function takes in a string and returns a list of integer digits found in the string.\n",
        "    The function assumes that the string only contains digits from 0 to 9.\n",
        "    \"\"\"\n",
        "    return [int(char) for char in s if char.isdigit()]\n",
        "\n",
        "# Test cases\n",
        "print(find_digits(\"abc123def456\"))  # Should return [1, 2, 3, 4, 5, 6]\n",
        "print(find_digits(\"no_digits_here\"))  # Should return []\n",
        "print(find_digits(\"2020-08-06\"))  # Should return [2, 0, 2, 0, 0, 8, 0, 6]\n",
        "print(find_digits(\"room 101\"))  # Should return [1, 0, 1]\n",
        "print(find_digits(\"\"))  # Should return []\n"
      ],
      "metadata": {
        "colab": {
          "base_uri": "https://localhost:8080/"
        },
        "id": "YHXZhiMh_q5z",
        "outputId": "61817b69-841c-4bdd-d6cf-af126a34f2a5"
      },
      "execution_count": 32,
      "outputs": [
        {
          "output_type": "stream",
          "name": "stdout",
          "text": [
            "[1, 2, 3, 4, 5, 6]\n",
            "[]\n",
            "[2, 0, 2, 0, 0, 8, 0, 6]\n",
            "[1, 0, 1]\n",
            "[]\n"
          ]
        }
      ]
    },
    {
      "cell_type": "markdown",
      "source": [
        "The list comprehension iterates through each character char in the string s.\n",
        "The isdigit() method checks if the character is a digit.\n",
        "If it is, the character is converted to an integer and added to the list."
      ],
      "metadata": {
        "id": "MoHnGF_SqknE"
      }
    },
    {
      "cell_type": "markdown",
      "source": [
        "**Answer 1.5**"
      ],
      "metadata": {
        "id": "ddxKwnNl_4q-"
      }
    },
    {
      "cell_type": "code",
      "source": [
        "# List comprehension to solve y = 2x^2 - 1 within the given domain and range\n",
        "pairs = [[x, y] for x in range(-3, 4) for y in [2 * x**2 - 1] if 0 <= y <= 30]\n",
        "\n",
        "print(pairs)  # Should print the list of [x, y] pairs\n",
        "\n"
      ],
      "metadata": {
        "colab": {
          "base_uri": "https://localhost:8080/"
        },
        "id": "ezBiwa68Ainq",
        "outputId": "d4048edf-f5d3-48f8-b0e9-705470d15aef"
      },
      "execution_count": 33,
      "outputs": [
        {
          "output_type": "stream",
          "name": "stdout",
          "text": [
            "[[-3, 17], [-2, 7], [-1, 1], [1, 1], [2, 7], [3, 17]]\n"
          ]
        }
      ]
    },
    {
      "cell_type": "markdown",
      "source": [
        "In the code , range(-3, 4) generates values of x from -3 to 3 (inclusive).\n",
        "\n",
        "[(2 * x^2) - 1] computes the value of y for each x.\n",
        "\n",
        "if 0 <= y <= 30: Filters the pairs to include only those where y is within the range [0, 30].\n",
        "\n",
        "The result is a list of [x,y] pairs where x is within the domain and y satisfies both the equation and the specified range."
      ],
      "metadata": {
        "id": "iCCIE7TCq4XY"
      }
    },
    {
      "cell_type": "markdown",
      "source": [
        "**Answer 1.6**"
      ],
      "metadata": {
        "id": "DPV-5vXqAp5P"
      }
    },
    {
      "cell_type": "code",
      "source": [
        "import math\n",
        "\n",
        "def are_balls_colliding(ball1, ball2):\n",
        "    \"\"\"\n",
        "    This function determines if two balls are colliding based on their positions and radii.\n",
        "    The balls are represented as lists [x, y, r], where:\n",
        "    - x and y are the coordinates of the ball's center.\n",
        "    - r is the radius of the ball.\n",
        "    \"\"\"\n",
        "    # Extract positions (x, y) and radii (r) from the ball1 and ball2 lists\n",
        "    x1, y1, r1 = ball1\n",
        "    x2, y2, r2 = ball2\n",
        "\n",
        "    # Calculate the Euclidean distance between the centers of the two balls\n",
        "    distance = math.sqrt((x2 - x1) ** 2 + (y2 - y1) ** 2)\n",
        "\n",
        "    # Check if the distance is less than or equal to the sum of the radii\n",
        "    # If true, the balls are colliding (return True), otherwise, they are not colliding (return False)\n",
        "    return distance <= (r1 + r2)\n",
        "\n",
        "# Test Case 1\n",
        "# Ball 1 is at (0, 0) with a radius of 1, and Ball 2 is at (1, 1) with a radius of 1\n",
        "# The distance between the centers is sqrt(2) ≈ 1.41, which is less than the sum of the radii (1 + 1 = 2)\n",
        "ball1 = [0, 0, 1]\n",
        "ball2 = [1, 1, 1]\n",
        "print(are_balls_colliding(ball1, ball2))  # Should return True because the balls are colliding\n",
        "\n",
        "# Test Case 2\n",
        "# Ball 3 is at (0, 0) with a radius of 1, and Ball 4 is at (3, 3) with a radius of 1\n",
        "# The distance between the centers is sqrt(18) ≈ 4.24, which is greater than the sum of the radii (1 + 1 = 2)\n",
        "ball3 = [0, 0, 1]\n",
        "ball4 = [3, 3, 1]\n",
        "print(are_balls_colliding(ball3, ball4))  # Should return False because the balls are not colliding\n",
        "\n",
        "# Test Case 3\n",
        "# Ball 5 is at (0, 0) with a radius of 2, and Ball 6 is at (1, 1) with a radius of 2\n",
        "# The distance between the centers is sqrt(2) ≈ 1.41, which is less than the sum of the radii (2 + 2 = 4)\n",
        "ball5 = [0, 0, 2]\n",
        "ball6 = [1, 1, 2]\n",
        "print(are_balls_colliding(ball5, ball6))  # Should return True because the balls are colliding\n",
        "\n"
      ],
      "metadata": {
        "colab": {
          "base_uri": "https://localhost:8080/"
        },
        "id": "jF0Bm4iF2vOg",
        "outputId": "6d45a44f-a7af-457a-d787-d09c93484641"
      },
      "execution_count": 34,
      "outputs": [
        {
          "output_type": "stream",
          "name": "stdout",
          "text": [
            "True\n",
            "False\n",
            "True\n"
          ]
        }
      ]
    },
    {
      "cell_type": "markdown",
      "source": [
        "**Answer 1.7**\n"
      ],
      "metadata": {
        "id": "vIOlqeoR3edF"
      }
    },
    {
      "cell_type": "code",
      "source": [
        "# Dictionary containing letter values for scoring\n",
        "LETTER_VALUES = {\n",
        "    'a': 1, 'b': 1, 'c': 5, 'd': 6, 'e': 1, 'f': 4, 'g': 2, 'h': 4, 'i': 1, 'j': 8, 'k': 6, 'l': 1,\n",
        "    'm': 4, 'n': 1, 'o': 1, 'p': 3, 'q': 11, 'r': 1, 's': 1, 't': 1, 'u': 1, 'v': 5, 'w': 4, 'x': 8,\n",
        "    'y': 6, 'z': 10, ' ': 100\n",
        "}\n",
        "\n",
        "def get_word_score(word):\n",
        "    \"\"\"\n",
        "    This function calculates the score of a given word based on letter values and word length.\n",
        "    The scoring consists of two components:\n",
        "    1. The sum of the letter values for each character in the word.\n",
        "    2. A second component that adjusts the score based on the length of the word.\n",
        "\n",
        "    Parameters:\n",
        "    word (str): The word for which the score needs to be calculated.\n",
        "\n",
        "    Returns:\n",
        "    int: The calculated score for the word.\n",
        "    \"\"\"\n",
        "    # Convert the word to lowercase to handle case insensitivity\n",
        "    word = word.lower()\n",
        "\n",
        "    # Calculate the sum of letter values for the given word\n",
        "    word_score = sum(LETTER_VALUES[char] for char in word if char in LETTER_VALUES)\n",
        "\n",
        "    # Get the length of the word\n",
        "    wordlen = len(word)\n",
        "\n",
        "    # Calculate the second component of the score based on the word length\n",
        "    second_component = max(1, 7 * wordlen - 3 * (20 - wordlen))\n",
        "\n",
        "    # Return the final score, which is the product of the word score and the second component\n",
        "    return word_score * second_component\n",
        "\n",
        "# Test cases\n",
        "# Calculate score for the word \"Australia\"\n",
        "print(\"Score for Australia is \" , get_word_score(\"Australia\"))\n",
        "\n",
        "# Calculate score for the word \"Deakin\"\n",
        "print(\"Score for Deakin is \" ,get_word_score(\"Deakin\"))\n",
        "\n",
        "# Calculate score for my name\n",
        "print(\"Score for my name 'Ishita' is \" ,get_word_score(\"Ishita\"))\n"
      ],
      "metadata": {
        "colab": {
          "base_uri": "https://localhost:8080/"
        },
        "id": "Oc-nGbJa3Q0j",
        "outputId": "f6d068ac-3056-4f99-d7a2-94df4ba79565"
      },
      "execution_count": 35,
      "outputs": [
        {
          "output_type": "stream",
          "name": "stdout",
          "text": [
            "Score for Australia is  270\n",
            "Score for Deakin is  16\n",
            "Score for my name 'Ishita' is  9\n"
          ]
        }
      ]
    },
    {
      "cell_type": "markdown",
      "source": [
        "**Answer 1.8**"
      ],
      "metadata": {
        "id": "q6xi0zzv3mBH"
      }
    },
    {
      "cell_type": "markdown",
      "source": [
        "Yes, 'for' loop can be used to draw the desired shape using string character '*'."
      ],
      "metadata": {
        "id": "ylrBCFattS7a"
      }
    },
    {
      "cell_type": "code",
      "source": [
        "def print_shape():\n",
        "    max_height = 5  # Half the height of the diamond (excluding the middle line)\n",
        "\n",
        "    # Print the top part of the diamond (including the middle line)\n",
        "    for i in range(max_height):\n",
        "        # Print leading spaces to center the stars, followed by stars\n",
        "        print(' ' * (max_height - i - 1) + '*' * (i + 1))\n",
        "\n",
        "    # Print the bottom part of the diamond (excluding the middle line)\n",
        "    for i in range(max_height - 1, 0, -1):\n",
        "        # Print leading spaces to center the stars, followed by stars\n",
        "        print(' ' * (max_height - i) + '*' * i)\n",
        "\n",
        "# Call the function to print the shape\n",
        "print_shape()\n",
        "\n"
      ],
      "metadata": {
        "colab": {
          "base_uri": "https://localhost:8080/"
        },
        "id": "SNxr6FaH4FJ6",
        "outputId": "8c39e282-cfc7-40df-9b07-b651f49b9b5d"
      },
      "execution_count": 36,
      "outputs": [
        {
          "output_type": "stream",
          "name": "stdout",
          "text": [
            "    *\n",
            "   **\n",
            "  ***\n",
            " ****\n",
            "*****\n",
            " ****\n",
            "  ***\n",
            "   **\n",
            "    *\n"
          ]
        }
      ]
    },
    {
      "cell_type": "markdown",
      "source": [
        "# **PART II**"
      ],
      "metadata": {
        "id": "I_Qi8GHj6708"
      }
    },
    {
      "cell_type": "markdown",
      "source": [
        "# Which version?"
      ],
      "metadata": {
        "id": "piE7No1j7DcA"
      }
    },
    {
      "cell_type": "code",
      "source": [
        "def sum_digits(n):\n",
        "    r = 0\n",
        "    while n:\n",
        "        r, n = r + n % 10, n // 10\n",
        "    return r\n",
        "\n",
        "def check_student_id(studentid):\n",
        "    x = sum_digits(studentid)\n",
        "    if x % 2 == 0:\n",
        "        print('version I')\n",
        "    else:\n",
        "        print('version II')\n",
        "    print('Correct Version of Q2 for me is :')\n",
        "check_student_id(224051349)\n",
        "\n",
        "\n"
      ],
      "metadata": {
        "colab": {
          "base_uri": "https://localhost:8080/"
        },
        "id": "LRSmARfs7His",
        "outputId": "8a17f5a4-26d6-422b-d068-fbe0bf997518"
      },
      "execution_count": 37,
      "outputs": [
        {
          "output_type": "stream",
          "name": "stdout",
          "text": [
            "version I\n",
            "Correct Version of Q2 for me is :\n"
          ]
        }
      ]
    },
    {
      "cell_type": "markdown",
      "source": [
        "# I version"
      ],
      "metadata": {
        "id": "VGFCz-z27gTM"
      }
    },
    {
      "cell_type": "markdown",
      "source": [
        "**Answer 2.1**"
      ],
      "metadata": {
        "id": "ivOTWsCItrCv"
      }
    },
    {
      "cell_type": "code",
      "source": [
        "import numpy as np\n",
        "import matplotlib.pyplot as plt\n",
        "\n",
        "# Define the functions\n",
        "def line(x):\n",
        "    \"\"\"\n",
        "    Define the line function: y = 10 - 2 * x\n",
        "    \"\"\"\n",
        "    return 10 - 2 * x\n",
        "\n",
        "def curve(x):\n",
        "    \"\"\"\n",
        "    Define the quadratic function: y = 5 + 4 * x - x^2\n",
        "    \"\"\"\n",
        "    return 5 + 4 * x - x**2\n",
        "\n",
        "# Function to find intersections\n",
        "def find_intersections():\n",
        "    \"\"\"\n",
        "    Find the intersections of the line and the curve by solving the quadratic equation\n",
        "    obtained from setting the line and curve equations equal to each other.\n",
        "    \"\"\"\n",
        "    # Coefficients of the quadratic equation derived from the intersection condition\n",
        "    coeff = [1, -6, 5]\n",
        "    x_intersections = np.roots(coeff)  # Solve for x using numpy's roots function\n",
        "    y_intersections = line(x_intersections)  # Compute corresponding y values using the line function\n",
        "    return list(zip(x_intersections, y_intersections))  # Return as a list of (x, y) tuples\n",
        "\n",
        "# Function to plot graphs and intersections\n",
        "def graph_and_plot_intersections(formula1, formula2, x_range):\n",
        "    \"\"\"\n",
        "    Plot the graphs of two functions and their intersection points.\n",
        "\n",
        "    Parameters:\n",
        "    - formula1: The first function to plot (e.g., the line function).\n",
        "    - formula2: The second function to plot (e.g., the curve function).\n",
        "    - x_range: The range of x values to plot.\n",
        "\n",
        "    Returns:\n",
        "    - intersections: A list of intersection points (x, y).\n",
        "    \"\"\"\n",
        "    x = np.array(x_range)  # Convert x_range to a numpy array\n",
        "    y1 = formula1(x)  # Compute y values for the first function\n",
        "    y2 = formula2(x)  # Compute y values for the second function\n",
        "\n",
        "    plt.figure(figsize=(10, 6))  # Create a new figure with specified size\n",
        "    plt.plot(x, y1, label='y = 10 - 2x', color='blue')  # Plot the first function (line)\n",
        "    plt.plot(x, y2, label='y = 5 + 4x - x^2', color='green')  # Plot the second function (curve)\n",
        "\n",
        "    # Find intersections and plot them\n",
        "    intersections = find_intersections()\n",
        "    for pt in intersections:\n",
        "        plt.plot(pt[0], pt[1], 'ro')  # Plot intersection points as red dots\n",
        "        plt.text(pt[0], pt[1], f'({pt[0]:.2f}, {pt[1]:.2f})', fontsize=12, ha='right')  # Annotate intersections\n",
        "\n",
        "    plt.xlabel('x')  # Label x-axis\n",
        "    plt.ylabel('y')  # Label y-axis\n",
        "    plt.legend()  # Show legend\n",
        "    plt.grid(True)  # Show grid\n",
        "    plt.title('Intersection of Curve and Line')  # Set the title of the plot\n",
        "    plt.show()  # Display the plot\n",
        "\n",
        "    return intersections  # Return intersection points\n",
        "\n",
        "# Define x range and plot\n",
        "x_range = np.arange(-2, 7, 0.0001)  # Define the range of x values for plotting\n",
        "intersections = graph_and_plot_intersections(line, curve, x_range)  # Plot and find intersections\n",
        "print(\"Intersections (x, y):\")  # Print the intersection points\n",
        "for pt in intersections:\n",
        "    print(f\"({pt[0]:.2f}, {pt[1]:.2f})\")\n",
        "\n"
      ],
      "metadata": {
        "colab": {
          "base_uri": "https://localhost:8080/",
          "height": 616
        },
        "id": "x8-ifoIj8UXz",
        "outputId": "2c0ae9ea-aeb3-42a9-f1d9-216a8231dbd6"
      },
      "execution_count": 38,
      "outputs": [
        {
          "output_type": "display_data",
          "data": {
            "text/plain": [
              "<Figure size 1000x600 with 1 Axes>"
            ],
            "image/png": "[encoded data removed]"
          },
          "metadata": {}
        },
        {
          "output_type": "stream",
          "name": "stdout",
          "text": [
            "Intersections (x, y):\n",
            "(5.00, 0.00)\n",
            "(1.00, 8.00)\n"
          ]
        }
      ]
    },
    {
      "cell_type": "markdown",
      "source": [
        "**Answer 2.2**"
      ],
      "metadata": {
        "id": "mV7TwFVWueyH"
      }
    },
    {
      "cell_type": "code",
      "source": [
        "import numpy as np\n",
        "import matplotlib.pyplot as plt\n",
        "\n",
        "# Define the function y = 5 + 4x - x^2\n",
        "def func(x):\n",
        "    return 5 + 4*x - x**2\n",
        "\n",
        "# Define the area calculation using the Trapezoidal Rule\n",
        "def area_curve(p1, p2):\n",
        "    x1, y1 = p1\n",
        "    x2, y2 = p2\n",
        "    # Calculate the area under the curve using the Trapezoidal Rule\n",
        "    n = 1000  # Number of intervals\n",
        "    x = np.linspace(x1, x2, n)\n",
        "    y = func(x)\n",
        "    area = np.trapz(y, x)\n",
        "    return area\n",
        "\n",
        "# Plot the function\n",
        "x = np.linspace(-2, 6, 1000)\n",
        "y = func(x)\n",
        "\n",
        "plt.plot(x, y)\n",
        "plt.fill_between(x, y, where=((x >= 1) & (x <= 5)), color='red', alpha=0.3)\n",
        "plt.xlim([-3, 7])\n",
        "plt.ylim([0, 10])\n",
        "plt.show()\n"
      ],
      "metadata": {
        "id": "anyW0-kI9l2n",
        "colab": {
          "base_uri": "https://localhost:8080/",
          "height": 435
        },
        "outputId": "aa32c0ad-ce03-413f-a6b4-8b269b8f8072"
      },
      "execution_count": 39,
      "outputs": [
        {
          "output_type": "display_data",
          "data": {
            "text/plain": [
              "<Figure size 640x480 with 1 Axes>"
            ],
            "image/png": "[encoded data removed]"
          },
          "metadata": {}
        }
      ]
    },
    {
      "cell_type": "markdown",
      "source": [
        "This shows the same figure as asked to illustrate in the tasksheet."
      ],
      "metadata": {
        "id": "ToWCZfCszexN"
      }
    },
    {
      "cell_type": "code",
      "source": [
        "import numpy as np\n",
        "\n",
        "def area_curve(p1, p2):\n",
        "    \"\"\"\n",
        "    Calculate the area under the curve y = 5 + 4x - x^2 between two points using the Trapezoidal Rule.\n",
        "\n",
        "    Args:\n",
        "    p1: [x1, y1] - The first point of intersection.\n",
        "    p2: [x2, y2] - The second point of intersection.\n",
        "\n",
        "    Returns:\n",
        "    The calculated area under the curve between p1 and p2.\n",
        "    \"\"\"\n",
        "\n",
        "    # Unpack the points\n",
        "    x1, y1 = p1\n",
        "    x2, y2 = p2\n",
        "\n",
        "    # Define the function y = 5 + 4x - x^2\n",
        "    def func(x):\n",
        "        return 5 + 4*x - x**2\n",
        "\n",
        "    # Create an array of x values between x1 and x2\n",
        "    x = np.linspace(x1, x2, 1000)\n",
        "\n",
        "    # Calculate the y values for these x values using the function\n",
        "    y = func(x)\n",
        "\n",
        "    # Calculate the area under the curve using the trapezoidal rule\n",
        "    area = np.trapz(y, x)\n",
        "\n",
        "    return area\n",
        "\n",
        "# Intersection points\n",
        "p1 = [1.00, 8.00]  # Point of intersection at x = 1.00\n",
        "p2 = [5.00, 0.00]  # Point of intersection at x = 5.00\n",
        "\n",
        "# Calculate the area under the curve between the two points\n",
        "curve_area = area_curve(p1, p2)\n",
        "\n",
        "# Print the result\n",
        "print(f\"The area under the curve between {p1} and {p2} is: {curve_area:.2f}\")\n",
        "\n"
      ],
      "metadata": {
        "colab": {
          "base_uri": "https://localhost:8080/"
        },
        "id": "v5C0u9qEQht1",
        "outputId": "6e3e4392-60b4-4cda-f841-9b46bcacc369"
      },
      "execution_count": 40,
      "outputs": [
        {
          "output_type": "stream",
          "name": "stdout",
          "text": [
            "The area under the curve between [1.0, 8.0] and [5.0, 0.0] is: 26.67\n"
          ]
        }
      ]
    },
    {
      "cell_type": "markdown",
      "source": [
        "**Answer 2.3**"
      ],
      "metadata": {
        "id": "hFqqopiXw4Gx"
      }
    },
    {
      "cell_type": "code",
      "source": [
        "import numpy as np\n",
        "import matplotlib.pyplot as plt\n",
        "\n",
        "def graph(formula1, formula2, x_range):\n",
        "    \"\"\"\n",
        "    Plot two functions and fill the area between the functions within the specified x range.\n",
        "\n",
        "    Args:\n",
        "    formula1: Function representing the first formula.\n",
        "    formula2: Function representing the second formula.\n",
        "    x_range: Array-like, the range of x values to be plotted.\n",
        "    \"\"\"\n",
        "    x = np.array(x_range)  # Convert x_range to a numpy array for efficient calculations\n",
        "    y1 = formula1(x)       # Compute y values for the first function\n",
        "\n",
        "    # Define the intersection points on the x-axis\n",
        "    x_start = 1  # First intersection point on the x-axis\n",
        "    x_end = 5    # Second intersection point on the x-axis\n",
        "\n",
        "    # Plot the first function\n",
        "    plt.plot(x, y1, label='y = 10 - 2x')\n",
        "\n",
        "    # Fill the area between x_start and x_end\n",
        "    plt.fill_between(x, y1, where=((x >= x_start) & (x <= x_end)), color='red', alpha=0.3)\n",
        "\n",
        "    plt.ylim(ymin=0)   # Set the minimum value for the y-axis\n",
        "    plt.legend()       # Show the legend\n",
        "    plt.show()         # Display the plot\n",
        "\n",
        "# Example usage\n",
        "graph(lambda x: 10 - 2*x, lambda x: 5 + 4*x - x**2, np.arange(-2, 7, 0.01))\n",
        "\n",
        "def area_line(p1, p2):\n",
        "    \"\"\"\n",
        "    Calculate the area under the line y = 10 - 2x between two points using the Trapezoidal Rule.\n",
        "\n",
        "    Args:\n",
        "    p1: [x1, y1] - The first point of intersection.\n",
        "    p2: [x2, y2] - The second point of intersection.\n",
        "\n",
        "    Returns:\n",
        "    The calculated area under the line between p1 and p2.\n",
        "    \"\"\"\n",
        "\n",
        "    # Unpack the points\n",
        "    x1, y1 = p1\n",
        "    x2, y2 = p2\n",
        "\n",
        "    # Define the function y = 10 - 2x\n",
        "    def func(x):\n",
        "        return 10 - 2*x\n",
        "\n",
        "    # Create an array of x values between x1 and x2\n",
        "    x = np.linspace(x1, x2, 1000)\n",
        "\n",
        "    # Calculate the y values for these x values\n",
        "    y = func(x)\n",
        "\n",
        "    # Calculate the area using the trapezoidal rule\n",
        "    area = np.trapz(y, x)\n",
        "\n",
        "    return area\n",
        "\n",
        "# Define the intersection points\n",
        "p1 = [1.00, 8.00]\n",
        "p2 = [5.00, 0.00]\n",
        "\n",
        "# Calculate the area under the line\n",
        "line_area = area_line(p1, p2)\n",
        "print(f\"The area under the line between {p1} and {p2} is: {line_area:.2f}\")\n"
      ],
      "metadata": {
        "colab": {
          "base_uri": "https://localhost:8080/",
          "height": 447
        },
        "id": "wtABHLa0W6zQ",
        "outputId": "a4032ce0-46ed-4d09-9552-84f72cd5cd45"
      },
      "execution_count": 41,
      "outputs": [
        {
          "output_type": "display_data",
          "data": {
            "text/plain": [
              "<Figure size 640x480 with 1 Axes>"
            ],
            "image/png": "[encoded data removed]"
          },
          "metadata": {}
        },
        {
          "output_type": "stream",
          "name": "stdout",
          "text": [
            "The area under the line between [1.0, 8.0] and [5.0, 0.0] is: 16.00\n"
          ]
        }
      ]
    },
    {
      "cell_type": "markdown",
      "source": [
        "The figure where area under the line is highlightes is plotted above along with the calculated result."
      ],
      "metadata": {
        "id": "kbSuExP0zpsP"
      }
    },
    {
      "cell_type": "markdown",
      "source": [
        "**Answer 2.4**"
      ],
      "metadata": {
        "id": "GghSeQzqxNmM"
      }
    },
    {
      "cell_type": "code",
      "source": [
        "# Define the intersection points\n",
        "p1 = [1.00, 8.00]\n",
        "p2 = [5.00, 0.00]\n",
        "\n",
        "# Calculate the area under the curve and the line\n",
        "curve_area = area_curve(p1, p2)\n",
        "line_area = area_line(p1, p2)\n",
        "\n",
        "# Compute the area between the curve and the line\n",
        "area_between = curve_area - line_area\n",
        "\n",
        "# Round the result to 3 decimals\n",
        "area_between_rounded = round(area_between, 3)\n",
        "\n",
        "print(f\"Area between the curve and the line: {area_between_rounded}\")"
      ],
      "metadata": {
        "colab": {
          "base_uri": "https://localhost:8080/"
        },
        "id": "y1eWAxmGnStt",
        "outputId": "33ad9c25-82ad-47a5-9bc2-86e8ac96e0c7"
      },
      "execution_count": 42,
      "outputs": [
        {
          "output_type": "stream",
          "name": "stdout",
          "text": [
            "Area between the curve and the line: 10.667\n"
          ]
        }
      ]
    },
    {
      "cell_type": "markdown",
      "source": [
        "This is how area between the two functions y = 10 − 2x and y = 5 + 4x − x^2 can be calculated ."
      ],
      "metadata": {
        "id": "AuDGSj9NzyKW"
      }
    }
  ]
}